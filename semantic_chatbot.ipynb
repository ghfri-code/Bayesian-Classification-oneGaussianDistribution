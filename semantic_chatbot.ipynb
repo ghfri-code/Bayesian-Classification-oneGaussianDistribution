{
  "nbformat": 4,
  "nbformat_minor": 0,
  "metadata": {
    "colab": {
      "provenance": [],
      "authorship_tag": "ABX9TyON6kjIUj4X5wXMIPsHDcX4",
      "include_colab_link": true
    },
    "kernelspec": {
      "name": "python3",
      "display_name": "Python 3"
    },
    "language_info": {
      "name": "python"
    }
  },
  "cells": [
    {
      "cell_type": "markdown",
      "metadata": {
        "id": "view-in-github",
        "colab_type": "text"
      },
      "source": [
        "<a href=\"https://colab.research.google.com/github/ghfri-code/Bayesian-Classification-oneGaussianDistribution/blob/master/semantic_chatbot.ipynb\" target=\"_parent\"><img src=\"https://colab.research.google.com/assets/colab-badge.svg\" alt=\"Open In Colab\"/></a>"
      ]
    },
    {
      "cell_type": "code",
      "source": [
        "import pandas as pd\n",
        "from sentence_transformers import SentenceTransformer, util\n",
        "import torch"
      ],
      "metadata": {
        "id": "ncoslWL5x_Ae"
      },
      "execution_count": 2,
      "outputs": []
    },
    {
      "cell_type": "code",
      "source": [
        "import pandas as pd\n",
        "import torch\n",
        "from sentence_transformers import SentenceTransformer, util\n",
        "\n",
        "data = {\n",
        "    \"question\": [\n",
        "        \"ساعات کاری فروشگاه شما چیست؟\",\n",
        "        \"چطور می‌توانم سفارش را لغو کنم؟\",\n",
        "        \"آیا امکان بازگشت کالا وجود دارد؟\",\n",
        "        \"روش‌های پرداخت شما چیست؟\"\n",
        "    ],\n",
        "    \"answer\": [\n",
        "        \"ساعات کاری ما همه روزه از ۹ صبح تا ۹ شب است.\",\n",
        "        \"برای لغو سفارش به بخش سفارشات در حساب کاربری بروید.\",\n",
        "        \"بله، تا ۷ روز امکان بازگشت کالا وجود دارد.\",\n",
        "        \"پرداخت از طریق کارت بانکی و درگاه آنلاین امکان‌پذیر است.\"\n",
        "    ]\n",
        "}\n",
        "\n",
        "df = pd.DataFrame(data)\n",
        "\n",
        "# Load the model\n",
        "model = SentenceTransformer('all-MiniLM-L6-v2')\n",
        "faq_embeddings = model.encode(df['question'].tolist(), convert_to_tensor=True)\n",
        "\n",
        "# Clean and multi-purpose chatbot\n",
        "def semantic_chatbot(query):\n",
        "    # If input is a single string, convert it to a list\n",
        "    single_input = False\n",
        "\n",
        "    # Check if input is str or not\n",
        "    if isinstance(query, str):\n",
        "        query = [query]\n",
        "        single_input = True\n",
        "\n",
        "    # Compute embeddings and cosine similarity\n",
        "    query_emb = model.encode(query, convert_to_tensor=True)\n",
        "    scores = util.pytorch_cos_sim(query_emb, faq_embeddings)\n",
        "    best_matches = torch.argmax(scores, dim=1)\n",
        "\n",
        "    # Retrieve answers and remove zero-width non-joiner (ZWNJ)\n",
        "    answers = [df['answer'].iloc[int(i)].replace(\"\\u200c\", \"\") for i in best_matches]\n",
        "\n",
        "    # If input was a single sentence, return only one string\n",
        "    if single_input:\n",
        "        return answers[0]\n",
        "    return answers\n",
        "\n",
        "\n",
        "# Test\n",
        "\n",
        "print(\"User: چطور سفارش رو لغو کنم؟\")\n",
        "print(\"Bot:\", semantic_chatbot(\"چطور سفارش رو لغو کنم؟\"))\n",
        "\n",
        "queries = [\n",
        "    \"چطور سفارشم رو لغو کنم؟\",\n",
        "    \"روش‌های پرداختتون چیه؟\"\n",
        "]\n",
        "\n",
        "print(f\"User: {\"\\n\\t\".join(queries)}\")\n",
        "print(\"Bot:\", semantic_chatbot(queries))\n"
      ],
      "metadata": {
        "id": "skn3OXvxj_zj"
      },
      "execution_count": null,
      "outputs": []
    }
  ]
}